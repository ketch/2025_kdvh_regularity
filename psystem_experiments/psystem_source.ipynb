{
 "cells": [
  {
   "cell_type": "code",
   "execution_count": null,
   "id": "c2c3ffc5",
   "metadata": {},
   "outputs": [],
   "source": [
    "import psystem_source\n",
    "import matplotlib.pyplot as plt\n",
    "from IPython.display import HTML\n",
    "from matplotlib import animation\n",
    "import numpy as np"
   ]
  },
  {
   "cell_type": "code",
   "execution_count": null,
   "id": "db4e3457",
   "metadata": {},
   "outputs": [],
   "source": [
    "claw = psystem_source.setup(amp=2e-1,tfinal=100.,mx=4000, nout=1000, use_source=True)\n",
    "claw.keep_copy = True\n",
    "#claw.solver.cfl_max = 0.1\n",
    "#claw.solver.cfl_desired = 0.05"
   ]
  },
  {
   "cell_type": "code",
   "execution_count": null,
   "id": "db550124",
   "metadata": {},
   "outputs": [],
   "source": [
    "claw.run()"
   ]
  },
  {
   "cell_type": "code",
   "execution_count": null,
   "id": "38b4431f",
   "metadata": {},
   "outputs": [],
   "source": [
    "xc = claw.solution.grid.x.centers\n",
    "fig = plt.figure(figsize=[10,6])\n",
    "#ax = plt.axes(xlim=(xc[0], xc[-1]), ylim=(0.2, 1.8))\n",
    "ax = plt.axes(xlim=(xc[0], xc[-1]), ylim=(-0.2, 0.2))\n",
    "line, = ax.plot([], [], lw=2)\n",
    "#line2, = ax.plot([], [], lw=2)\n",
    "\n",
    "def plot_frame(i):\n",
    "    q = claw.frames[i].q[0,:]\n",
    "    t = claw.frames[i].t\n",
    "    meanguess = 1.035-0.28*np.cos(1.175*np.array(t))\n",
    "    line.set_data(xc,q-meanguess)#-(1-0.25*np.cos(t)))\n",
    "    #ampguess = -np.cos(-0.4*t+0.6*np.pi)\n",
    "    #guess = meanguess - 0.2*ampguess*np.sin(2*np.pi*xc/10)\n",
    "    #line2.set_data(xc,guess)\n",
    "    return line,\n",
    "\n",
    "anim = animation.FuncAnimation(fig, plot_frame, frames=len(claw.frames), repeat=False)\n",
    "plt.close()\n",
    "HTML(anim.to_jshtml())"
   ]
  },
  {
   "cell_type": "code",
   "execution_count": null,
   "id": "a87d2201",
   "metadata": {},
   "outputs": [],
   "source": []
  },
  {
   "cell_type": "code",
   "execution_count": null,
   "id": "0e925897",
   "metadata": {},
   "outputs": [],
   "source": [
    "#anim.save(\"psystem_withsource_largeamplitude.gif\", fps=10)"
   ]
  },
  {
   "cell_type": "code",
   "execution_count": null,
   "id": "53f03530",
   "metadata": {},
   "outputs": [],
   "source": [
    "vmean = []\n",
    "tt = []\n",
    "for frame in claw.frames:\n",
    "    v = frame.q[0,:]\n",
    "    vmean.append(np.mean(v))\n",
    "    tt.append(frame.t)\n",
    "plt.plot(tt,vmean)\n",
    "plt.plot(tt,1.033-0.28*np.cos(1.175*np.array(tt)),\"--\")\n"
   ]
  },
  {
   "cell_type": "code",
   "execution_count": null,
   "id": "dd4f35cb",
   "metadata": {},
   "outputs": [],
   "source": [
    "umean = []\n",
    "tt = []\n",
    "for frame in claw.frames:\n",
    "    u = frame.q[1,:]\n",
    "    umean.append(np.mean(u))\n",
    "    tt.append(frame.t)\n",
    "plt.plot(tt,umean)\n",
    "plt.plot(tt,0.+0.33*np.sin(1.175*np.array(tt)))\n"
   ]
  },
  {
   "cell_type": "code",
   "execution_count": null,
   "id": "211bd6f2",
   "metadata": {},
   "outputs": [],
   "source": [
    "vdiff = []\n",
    "tt = []\n",
    "for frame in claw.frames:\n",
    "    v = frame.q[0,:]\n",
    "    vdiff.append(np.max(v)-np.min(v))\n",
    "    tt.append(frame.t)\n",
    "plt.figure(figsize=[10,6])\n",
    "plt.plot(tt,vdiff)\n",
    "#plt.plot(tt,1.035-0.28*np.cos(1.175*np.array(tt)))\n"
   ]
  },
  {
   "cell_type": "code",
   "execution_count": null,
   "id": "1f1347f4",
   "metadata": {},
   "outputs": [],
   "source": [
    "frameno = 30\n",
    "vmean = np.mean(claw.frames[frameno].q[0,:])\n",
    "umean = np.mean(claw.frames[frameno].q[1,:])\n",
    "plt.plot(xc,claw.frames[frameno].q[0,:]-vmean)\n",
    "plt.plot(xc,claw.frames[frameno].q[1,:]-umean)"
   ]
  },
  {
   "cell_type": "code",
   "execution_count": null,
   "id": "d34ee8d6",
   "metadata": {},
   "outputs": [],
   "source": [
    "# Make a 2D array out of all frames\n",
    "qsoln = np.array([frame.q[0,:] for frame in claw.frames])\n"
   ]
  },
  {
   "cell_type": "code",
   "execution_count": null,
   "id": "1a415bb2",
   "metadata": {},
   "outputs": [],
   "source": [
    "plt.pcolor(xc, tt, qsoln, shading='auto',cmap=\"bwr\")\n",
    "\n",
    "plt.savefig(\"psystem_nosource.png\")"
   ]
  },
  {
   "cell_type": "code",
   "execution_count": null,
   "id": "c3ab9d57",
   "metadata": {},
   "outputs": [],
   "source": [
    "# greyscale pcolor plot of gradient of qsoln on a log scale\n",
    "plt.pcolor(xc, tt, np.log10(np.abs(np.gradient(qsoln, axis=1))), shading='auto',cmap=\"Greys\")\n",
    "plt.clim(-3,-2)\n",
    "plt.colorbar()"
   ]
  },
  {
   "cell_type": "code",
   "execution_count": null,
   "id": "8f8687aa",
   "metadata": {},
   "outputs": [],
   "source": [
    "plt.savefig(\"psystem_withsource_largeamplitude_schlieren.png\")"
   ]
  },
  {
   "cell_type": "code",
   "execution_count": null,
   "id": "97e97ba4",
   "metadata": {},
   "outputs": [],
   "source": []
  }
 ],
 "metadata": {
  "kernelspec": {
   "display_name": "Python 3",
   "language": "python",
   "name": "python3"
  },
  "language_info": {
   "codemirror_mode": {
    "name": "ipython",
    "version": 3
   },
   "file_extension": ".py",
   "mimetype": "text/x-python",
   "name": "python",
   "nbconvert_exporter": "python",
   "pygments_lexer": "ipython3",
   "version": "3.14.0"
  }
 },
 "nbformat": 4,
 "nbformat_minor": 5
}
